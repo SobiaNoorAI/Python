{
  "nbformat": 4,
  "nbformat_minor": 0,
  "metadata": {
    "colab": {
      "provenance": [],
      "toc_visible": true,
      "authorship_tag": "ABX9TyM5+yzaRnsAGAUKHlLizSqH",
      "include_colab_link": true
    },
    "kernelspec": {
      "name": "python3",
      "display_name": "Python 3"
    },
    "language_info": {
      "name": "python"
    }
  },
  "cells": [
    {
      "cell_type": "markdown",
      "metadata": {
        "id": "view-in-github",
        "colab_type": "text"
      },
      "source": [
        "<a href=\"https://colab.research.google.com/github/SobiaNoorAI/Python/blob/main/fundamentals_of_Python.ipynb\" target=\"_parent\"><img src=\"https://colab.research.google.com/assets/colab-badge.svg\" alt=\"Open In Colab\"/></a>"
      ]
    },
    {
      "cell_type": "markdown",
      "source": [],
      "metadata": {
        "id": "xetn_LJzNkA4"
      }
    },
    {
      "cell_type": "markdown",
      "source": [
        "# Fundamentals of Python Programming"
      ],
      "metadata": {
        "id": "__9n0FILNkuQ"
      }
    },
    {
      "cell_type": "markdown",
      "source": [
        "## **Data Types**\n",
        "\n",
        "Boolean\n",
        "- True, False\n",
        "\n",
        "Int\n",
        "- Proper number n=23\n",
        "\n",
        "Float\n",
        "- Point values z= 3.145987\n",
        "\n",
        "Str\n",
        "- a=”Tony”\n"
      ],
      "metadata": {
        "id": "uY0r6vk8P9rS"
      }
    },
    {
      "cell_type": "code",
      "source": [
        "my_name ='Ironman'\n",
        "age=22\n",
        "print(f'Hello, my name is {my_name} and I am {age} years old.')\n",
        "\n",
        "\n",
        "full_name= \"Tony Stark\"\n",
        "address_line = \"Stark Tower, 200 Park Avenue, New York\"\n",
        "post_code =10001\n",
        "country ='USA'\n",
        "telephone_number =\"212-970-4133\"\n",
        "\n",
        "\n",
        "print(f'{full_name}\\n{address_line}\\n{post_code}\\n{country}\\n{telephone_number}')\n"
      ],
      "metadata": {
        "colab": {
          "base_uri": "https://localhost:8080/"
        },
        "id": "NoF6F-3PP4_U",
        "outputId": "31d2337c-cd43-48eb-f799-45fd0051f0fe"
      },
      "execution_count": 3,
      "outputs": [
        {
          "output_type": "stream",
          "name": "stdout",
          "text": [
            "Hello, my name is Ironman and I am 22 years old.\n",
            "Tony Stark\n",
            "Stark Tower, 200 Park Avenue, New York\n",
            "10001\n",
            "USA\n",
            "212-970-4133\n"
          ]
        }
      ]
    },
    {
      "cell_type": "markdown",
      "source": [
        "## **Minimum Number**"
      ],
      "metadata": {
        "id": "vvGvd01JNrxI"
      }
    },
    {
      "cell_type": "code",
      "source": [
        "numbers_list =[]\n",
        "for i in range(5):\n",
        "  user_input=int(input('Enter a Number:'))\n",
        "  numbers_list.append(user_input)\n",
        "\n",
        "min_number = numbers_list[0]\n",
        "for current_number in numbers_list:\n",
        "  if current_number < min_number:\n",
        "    min_number = current_number\n",
        "\n",
        "print(min_number)"
      ],
      "metadata": {
        "colab": {
          "base_uri": "https://localhost:8080/"
        },
        "id": "39HogLNLN0jU",
        "outputId": "3def57ac-1901-43c4-db07-628adcfbca8b"
      },
      "execution_count": 2,
      "outputs": [
        {
          "output_type": "stream",
          "name": "stdout",
          "text": [
            "Enter a Number:4\n",
            "Enter a Number:8\n",
            "Enter a Number:9\n",
            "Enter a Number:0\n",
            "Enter a Number:3\n",
            "0\n"
          ]
        }
      ]
    }
  ]
}
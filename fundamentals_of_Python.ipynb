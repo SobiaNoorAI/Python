{
  "nbformat": 4,
  "nbformat_minor": 0,
  "metadata": {
    "colab": {
      "provenance": [],
      "toc_visible": true,
      "authorship_tag": "ABX9TyP1aGyfH5wXRAJb2ukCrmWk",
      "include_colab_link": true
    },
    "kernelspec": {
      "name": "python3",
      "display_name": "Python 3"
    },
    "language_info": {
      "name": "python"
    }
  },
  "cells": [
    {
      "cell_type": "markdown",
      "metadata": {
        "id": "view-in-github",
        "colab_type": "text"
      },
      "source": [
        "<a href=\"https://colab.research.google.com/github/SobiaNoorAI/Python/blob/main/fundamentals_of_Python.ipynb\" target=\"_parent\"><img src=\"https://colab.research.google.com/assets/colab-badge.svg\" alt=\"Open In Colab\"/></a>"
      ]
    },
    {
      "cell_type": "markdown",
      "source": [],
      "metadata": {
        "id": "xetn_LJzNkA4"
      }
    },
    {
      "cell_type": "markdown",
      "source": [
        "# Fundamentals of Python Programming"
      ],
      "metadata": {
        "id": "__9n0FILNkuQ"
      }
    },
    {
      "cell_type": "markdown",
      "source": [
        "## **Minimum Number**"
      ],
      "metadata": {
        "id": "vvGvd01JNrxI"
      }
    },
    {
      "cell_type": "code",
      "source": [
        "numbers_list =[]\n",
        "for i in range(5):\n",
        "  user_input=int(input('Enter a Number:'))\n",
        "  numbers_list.append(user_input)\n",
        "\n",
        "min_number = numbers_list[0]\n",
        "for current_number in numbers_list:\n",
        "  if current_number < min_number:\n",
        "    min_number = current_number\n",
        "\n",
        "print('min_number')"
      ],
      "metadata": {
        "id": "39HogLNLN0jU"
      },
      "execution_count": null,
      "outputs": []
    }
  ]
}
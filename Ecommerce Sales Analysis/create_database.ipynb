{
  "nbformat": 4,
  "nbformat_minor": 0,
  "metadata": {
    "colab": {
      "provenance": [],
      "authorship_tag": "ABX9TyObORVYfijtIsz+hNOYpjF0",
      "include_colab_link": true
    },
    "kernelspec": {
      "name": "python3",
      "display_name": "Python 3"
    },
    "language_info": {
      "name": "python"
    }
  },
  "cells": [
    {
      "cell_type": "markdown",
      "metadata": {
        "id": "view-in-github",
        "colab_type": "text"
      },
      "source": [
        "<a href=\"https://colab.research.google.com/github/SobiaNoorAI/Python/blob/main/Ecommerce%20Sales%20Analysis/create_database.ipynb\" target=\"_parent\"><img src=\"https://colab.research.google.com/assets/colab-badge.svg\" alt=\"Open In Colab\"/></a>"
      ]
    },
    {
      "cell_type": "markdown",
      "source": [
        "# Create Database and Tables"
      ],
      "metadata": {
        "id": "4xiVyz1qO9FX"
      }
    },
    {
      "cell_type": "code",
      "source": [
        "import sqlite3\n",
        "import pandas as pd"
      ],
      "metadata": {
        "id": "otdrm41POmaO"
      },
      "execution_count": null,
      "outputs": []
    },
    {
      "cell_type": "code",
      "source": [
        "def create_database():\n",
        "    conn = sqlite3.connect('database/database.db')\n",
        "\n",
        "    # Load CSV datasets\n",
        "    orders = pd.read_csv('data/orders_large.csv')\n",
        "    products = pd.read_csv('data/products_large.csv')\n",
        "    customers = pd.read_csv('data/customers_large.csv')\n",
        "    sales = pd.read_csv('data/sales_large.csv')"
      ],
      "metadata": {
        "id": "hm63G6i1Oq_R"
      },
      "execution_count": null,
      "outputs": []
    },
    {
      "cell_type": "code",
      "execution_count": null,
      "metadata": {
        "id": "NspqdOXqOjQb"
      },
      "outputs": [],
      "source": [
        "    # Write data into database tables\n",
        "    orders.to_sql('orders_large', conn, if_exists='replace', index=False)\n",
        "    products.to_sql('products_large', conn, if_exists='replace', index=False)\n",
        "    customers.to_sql('customers_large', conn, if_exists='replace', index=False)\n",
        "    sales.to_sql('sales_large', conn, if_exists='replace', index=False)\n",
        "\n",
        "    conn.commit()\n",
        "    conn.close()\n",
        "    print(\"Database created and populated successfully.\")\n",
        "\n",
        "if __name__ == \"__main__\":\n",
        "    create_database()\n"
      ]
    }
  ]
}
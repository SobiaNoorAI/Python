{
  "nbformat": 4,
  "nbformat_minor": 0,
  "metadata": {
    "colab": {
      "provenance": [],
      "authorship_tag": "ABX9TyNaf/TkwJ4lbV+qa8vzFF8V",
      "include_colab_link": true
    },
    "kernelspec": {
      "name": "python3",
      "display_name": "Python 3"
    },
    "language_info": {
      "name": "python"
    }
  },
  "cells": [
    {
      "cell_type": "markdown",
      "metadata": {
        "id": "view-in-github",
        "colab_type": "text"
      },
      "source": [
        "<a href=\"https://colab.research.google.com/github/SobiaNoorAI/Python/blob/main/analysis/EDA.ipynb\" target=\"_parent\"><img src=\"https://colab.research.google.com/assets/colab-badge.svg\" alt=\"Open In Colab\"/></a>"
      ]
    },
    {
      "cell_type": "code",
      "execution_count": null,
      "metadata": {
        "id": "R0yiZn5OvPM6"
      },
      "outputs": [],
      "source": [
        "import pandas as pd\n",
        "import sqlite3\n"
      ]
    },
    {
      "cell_type": "code",
      "source": [
        "# Load data\n",
        "conn = sqlite3.connect('database/database.db')\n",
        "orders = pd.read_sql_query(\"SELECT * FROM orders_large\", conn)\n",
        "\n",
        "# Data cleaning\n",
        "orders.drop_duplicates(inplace=True)\n",
        "orders.fillna(0, inplace=True)\n",
        "\n",
        "# Feature engineering: Calculate revenue per product\n",
        "orders['Revenue'] = orders['Quantity'] * orders['TotalAmount']\n",
        "\n"
      ],
      "metadata": {
        "id": "g-Zz424Bza2F"
      },
      "execution_count": null,
      "outputs": []
    },
    {
      "cell_type": "code",
      "source": [
        "\n",
        "# Save cleaned data\n",
        "orders.to_csv('data/cleaned_orders.csv', index=False)\n",
        "print(\"EDA completed and data cleaned.\")"
      ],
      "metadata": {
        "id": "ETKWQveq2SBy"
      },
      "execution_count": null,
      "outputs": []
    }
  ]
}
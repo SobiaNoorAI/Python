{
  "nbformat": 4,
  "nbformat_minor": 0,
  "metadata": {
    "colab": {
      "provenance": [],
      "authorship_tag": "ABX9TyMK1fap80yYbRCPFIDWkPMJ",
      "include_colab_link": true
    },
    "kernelspec": {
      "name": "python3",
      "display_name": "Python 3"
    },
    "language_info": {
      "name": "python"
    }
  },
  "cells": [
    {
      "cell_type": "markdown",
      "metadata": {
        "id": "view-in-github",
        "colab_type": "text"
      },
      "source": [
        "<a href=\"https://colab.research.google.com/github/SobiaNoorAI/Python/blob/main/Ecommerce%20Sales%20Analysis/database/create_database.ipynb\" target=\"_parent\"><img src=\"https://colab.research.google.com/assets/colab-badge.svg\" alt=\"Open In Colab\"/></a>"
      ]
    },
    {
      "cell_type": "markdown",
      "source": [
        "# Create Database and Tables"
      ],
      "metadata": {
        "id": "4xiVyz1qO9FX"
      }
    },
    {
      "cell_type": "code",
      "source": [
        "import sqlite3\n",
        "import pandas as pd"
      ],
      "metadata": {
        "id": "otdrm41POmaO"
      },
      "execution_count": 2,
      "outputs": []
    },
    {
      "cell_type": "code",
      "source": [
        "def create_database():\n",
        "    conn = sqlite3.connect('database.db')\n",
        "    cursor=conn.cursor()\n",
        "\n",
        "    # Load CSV datasets\n",
        "    customers = pd.read_csv('https://raw.githubusercontent.com/SobiaNoorAI/Python/main/Ecommerce%20Sales%20Analysis/data/Customers_Large.csv')\n",
        "    orders = pd.read_csv('https://raw.githubusercontent.com/SobiaNoorAI/Python/main/Ecommerce%20Sales%20Analysis/data/Orders_Large.csv')\n",
        "    products = pd.read_csv('https://raw.githubusercontent.com/SobiaNoorAI/Python/main/Ecommerce%20Sales%20Analysis/data/Products_Large.csv')\n",
        "    sales = pd.read_csv('https://raw.githubusercontent.com/SobiaNoorAI/Python/main/Ecommerce%20Sales%20Analysis/data/Sales_Large.csv')\n",
        "\n",
        "    # Write data into database tables\n",
        "    orders.to_sql('orders_large', conn, if_exists='replace', index=False)\n",
        "    products.to_sql('products_large', conn, if_exists='replace', index=False)\n",
        "    customers.to_sql('customers_large', conn, if_exists='replace', index=False)\n",
        "    sales.to_sql('sales_large', conn, if_exists='replace', index=False)\n",
        "\n",
        "    conn.commit()\n",
        "    conn.close()\n",
        "    print(\"Database created and populated successfully.\")\n",
        "\n",
        "if __name__ == \"__main__\":\n",
        "    create_database()"
      ],
      "metadata": {
        "collapsed": true,
        "id": "ChCrtNweYE1C",
        "outputId": "9b0bd7ae-aa03-4204-ae3c-53b7b9f0c56a",
        "colab": {
          "base_uri": "https://localhost:8080/"
        }
      },
      "execution_count": 5,
      "outputs": [
        {
          "output_type": "stream",
          "name": "stdout",
          "text": [
            "Database created and populated successfully.\n"
          ]
        }
      ]
    }
  ]
}
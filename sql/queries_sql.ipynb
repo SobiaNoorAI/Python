{
  "nbformat": 4,
  "nbformat_minor": 0,
  "metadata": {
    "colab": {
      "provenance": [],
      "authorship_tag": "ABX9TyPeji8c+aHIEQ5CR96rbfJf",
      "include_colab_link": true
    },
    "kernelspec": {
      "name": "python3",
      "display_name": "Python 3"
    },
    "language_info": {
      "name": "python"
    }
  },
  "cells": [
    {
      "cell_type": "markdown",
      "metadata": {
        "id": "view-in-github",
        "colab_type": "text"
      },
      "source": [
        "<a href=\"https://colab.research.google.com/github/SobiaNoorAI/Python/blob/main/sql/queries_sql.ipynb\" target=\"_parent\"><img src=\"https://colab.research.google.com/assets/colab-badge.svg\" alt=\"Open In Colab\"/></a>"
      ]
    },
    {
      "cell_type": "markdown",
      "source": [
        "# SQL Task"
      ],
      "metadata": {
        "id": "gAsaO6WTs4nj"
      }
    },
    {
      "cell_type": "markdown",
      "source": [
        "# Total Sales Revenue by Month:"
      ],
      "metadata": {
        "id": "NYXbEKVJryXk"
      }
    },
    {
      "cell_type": "code",
      "execution_count": null,
      "metadata": {
        "id": "u9S6D5vNrbND"
      },
      "outputs": [],
      "source": [
        "SELECT\n",
        "    MONTH(OrderDate) AS Month,\n",
        "    SUM(TotalAmount) AS TotalRevenue\n",
        "FROM\n",
        "    orders\n",
        "GROUP BY\n",
        "    MONTH(OrderDate)\n",
        "ORDER BY\n",
        "    Month\n"
      ]
    },
    {
      "cell_type": "markdown",
      "source": [
        "# Top 5 Best-Selling Products"
      ],
      "metadata": {
        "id": "A4eLNHHGsGTC"
      }
    },
    {
      "cell_type": "code",
      "source": [
        "SELECT\n",
        "    products.ProductName,\n",
        "    SUM(orders.Quantity) AS TotalQuantity\n",
        "FROM\n",
        "    orders_large\n",
        "JOIN\n",
        "    products_large products ON orders.ProductID = p.ProductID\n",
        "GROUP BY\n",
        "    product.ProductName\n",
        "ORDER BY\n",
        "    TotalQuantity DESC\n",
        "LIMIT 5;\n"
      ],
      "metadata": {
        "id": "8zBzfuBfsHPn"
      },
      "execution_count": null,
      "outputs": []
    },
    {
      "cell_type": "markdown",
      "source": [
        "# Revenue Contribution by Customer Segments"
      ],
      "metadata": {
        "id": "nsmnkPHpsfX3"
      }
    },
    {
      "cell_type": "code",
      "source": [
        "SELECT\n",
        "    c.Segment,\n",
        "    SUM(orders.TotalAmount) AS TotalRevenue,\n",
        "    (SUM(orders.TotalAmount) / (SELECT SUM(TotalAmount) FROM orders)) * 100) AS PercentageContribution\n",
        "FROM\n",
        "    orders\n",
        "JOIN\n",
        "    customers ON orders.CustomerID = customers.CustomerID\n",
        "GROUP BY\n",
        "    customers.Segment;\n"
      ],
      "metadata": {
        "id": "8jB7hq4Qsg5j"
      },
      "execution_count": null,
      "outputs": []
    },
    {
      "cell_type": "markdown",
      "source": [
        "# Top Regions for Sales"
      ],
      "metadata": {
        "id": "fyGtMlkMsp2P"
      }
    },
    {
      "cell_type": "code",
      "source": [
        "SELECT\n",
        "    customers.Region,\n",
        "    SUM(orders.TotalAmount) AS TotalRevenue\n",
        "FROM\n",
        "    orders\n",
        "JOIN\n",
        "    customers  ON orders.CustomerID = customers.CustomerID\n",
        "GROUP BY\n",
        "    customers.Region\n",
        "ORDER BY\n",
        "    TotalRevenue DESC;"
      ],
      "metadata": {
        "id": "JhPgoNnzsq-4"
      },
      "execution_count": null,
      "outputs": []
    }
  ]
}